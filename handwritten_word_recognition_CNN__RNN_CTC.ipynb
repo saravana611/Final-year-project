{
  "cells": [
    {
      "cell_type": "markdown",
      "metadata": {
        "papermill": {
          "duration": 0.01012,
          "end_time": "2020-08-25T07:15:43.979439",
          "exception": false,
          "start_time": "2020-08-25T07:15:43.969319",
          "status": "completed"
        },
        "tags": [],
        "id": "9YfXZ9O2ecWr"
      },
      "source": [
        "importing the necessary libraries. \n"
      ]
    },
    {
      "cell_type": "code",
      "execution_count": null,
      "metadata": {
        "_cell_guid": "79c7e3d0-c299-4dcb-8224-4455121ee9b0",
        "_uuid": "d629ff2d2480ee46fbb7e2d37f6b5fab8052498a",
        "execution": {
          "iopub.execute_input": "2020-08-25T07:15:44.007460Z",
          "iopub.status.busy": "2020-08-25T07:15:44.006735Z",
          "iopub.status.idle": "2020-08-25T07:15:50.317884Z",
          "shell.execute_reply": "2020-08-25T07:15:50.317263Z"
        },
        "papermill": {
          "duration": 6.328121,
          "end_time": "2020-08-25T07:15:50.318006",
          "exception": false,
          "start_time": "2020-08-25T07:15:43.989885",
          "status": "completed"
        },
        "tags": [],
        "id": "OdCKiBw_ecWs"
      },
      "outputs": [],
      "source": [
        "import os\n",
        "import cv2\n",
        "import random\n",
        "import numpy as np\n",
        "import pandas as pd\n",
        "import matplotlib.pyplot as plt\n",
        "\n",
        "import tensorflow as tf\n",
        "from keras import backend as K\n",
        "from keras.models import Model\n",
        "from keras.layers import Input, Conv2D, MaxPooling2D, Reshape, Bidirectional, LSTM, Dense, Lambda, Activation, BatchNormalization, Dropout\n",
        "from tensorflow.keras.optimizers import Adam"
      ]
    },
    {
      "cell_type": "markdown",
      "metadata": {
        "papermill": {
          "duration": 0.01005,
          "end_time": "2020-08-25T07:15:50.339341",
          "exception": false,
          "start_time": "2020-08-25T07:15:50.329291",
          "status": "completed"
        },
        "tags": [],
        "id": "jzNEI_rPecWu"
      },
      "source": [
        "## Load and view data"
      ]
    },
    {
      "cell_type": "code",
      "source": [
        "os.environ['KAGGLE_USERNAME'] =\"saravanavelv\" # username from the json file\n",
        "os.environ['KAGGLE_KEY'] = \"15f922854738b0622181c3f9c6924bc8\" # key from the json file"
      ],
      "metadata": {
        "id": "rrOnFr8yefag"
      },
      "execution_count": null,
      "outputs": []
    },
    {
      "cell_type": "code",
      "source": [
        "!kaggle datasets download -d landlord/handwriting-recognition"
      ],
      "metadata": {
        "colab": {
          "base_uri": "https://localhost:8080/"
        },
        "id": "2Jo4cWr2hc9k",
        "outputId": "36f36569-9348-448e-fec8-a387248a4a58"
      },
      "execution_count": null,
      "outputs": [
        {
          "output_type": "stream",
          "name": "stdout",
          "text": [
            "Downloading handwriting-recognition.zip to /content\n",
            "100% 1.26G/1.26G [01:03<00:00, 24.5MB/s]\n",
            "100% 1.26G/1.26G [01:03<00:00, 21.3MB/s]\n"
          ]
        }
      ]
    },
    {
      "cell_type": "code",
      "source": [
        "!mkdir dataset"
      ],
      "metadata": {
        "id": "Snulqq30_G0g"
      },
      "execution_count": null,
      "outputs": []
    },
    {
      "cell_type": "code",
      "source": [
        "!unzip -q handwriting-recognition.zip -d dataset/"
      ],
      "metadata": {
        "id": "pPT7X3RnhzAy"
      },
      "execution_count": null,
      "outputs": []
    },
    {
      "cell_type": "code",
      "source": [
        "pwd"
      ],
      "metadata": {
        "colab": {
          "base_uri": "https://localhost:8080/",
          "height": 35
        },
        "id": "taNyqd80usLD",
        "outputId": "b9fd6db7-af42-414a-e5f1-24a688353d80"
      },
      "execution_count": null,
      "outputs": [
        {
          "output_type": "execute_result",
          "data": {
            "text/plain": [
              "'/content'"
            ],
            "application/vnd.google.colaboratory.intrinsic+json": {
              "type": "string"
            }
          },
          "metadata": {},
          "execution_count": 6
        }
      ]
    },
    {
      "cell_type": "code",
      "source": [
        "!ls"
      ],
      "metadata": {
        "colab": {
          "base_uri": "https://localhost:8080/"
        },
        "id": "minspkPwhy9U",
        "outputId": "5764aa5c-cc46-4015-8b71-f835c379257a"
      },
      "execution_count": null,
      "outputs": [
        {
          "output_type": "stream",
          "name": "stdout",
          "text": [
            "dataset  handwriting-recognition.zip  sample_data\n"
          ]
        }
      ]
    },
    {
      "cell_type": "code",
      "execution_count": null,
      "metadata": {
        "execution": {
          "iopub.execute_input": "2020-08-25T07:15:50.368797Z",
          "iopub.status.busy": "2020-08-25T07:15:50.368025Z",
          "iopub.status.idle": "2020-08-25T07:15:50.733969Z",
          "shell.execute_reply": "2020-08-25T07:15:50.733279Z"
        },
        "papermill": {
          "duration": 0.384617,
          "end_time": "2020-08-25T07:15:50.734310",
          "exception": false,
          "start_time": "2020-08-25T07:15:50.349693",
          "status": "completed"
        },
        "tags": [],
        "id": "QIYD2G9aecWu"
      },
      "outputs": [],
      "source": [
        "train = pd.read_csv('/content/dataset/written_name_train_v2.csv')\n",
        "valid = pd.read_csv('/content/dataset/written_name_validation_v2.csv')"
      ]
    },
    {
      "cell_type": "code",
      "source": [
        "pwd"
      ],
      "metadata": {
        "colab": {
          "base_uri": "https://localhost:8080/",
          "height": 35
        },
        "id": "Nk74dN9xsWpx",
        "outputId": "d08c7b85-a37e-4d7f-a09a-43c66cab9eee"
      },
      "execution_count": null,
      "outputs": [
        {
          "output_type": "execute_result",
          "data": {
            "text/plain": [
              "'/content'"
            ],
            "application/vnd.google.colaboratory.intrinsic+json": {
              "type": "string"
            }
          },
          "metadata": {},
          "execution_count": 9
        }
      ]
    },
    {
      "cell_type": "code",
      "source": [
        "plt.figure(figsize=(15, 10))\n",
        "\n",
        "for i in range(6):\n",
        "    ax = plt.subplot(2, 3, i+1)\n",
        "    img_dir = '/content/dataset/train_v2/train/'+train.loc[i, 'FILENAME']\n",
        "    image = cv2.imread(img_dir, cv2.IMREAD_GRAYSCALE)\n",
        "    plt.imshow(image, cmap = 'gray')\n",
        "    plt.title(train.loc[i, 'IDENTITY'], fontsize=12)\n",
        "    plt.axis('off')\n",
        "\n",
        "plt.subplots_adjust(wspace=0.2, hspace=-0.8)\n",
        "\n"
      ],
      "metadata": {
        "colab": {
          "base_uri": "https://localhost:8080/",
          "height": 186
        },
        "id": "MqSgjD4L9iXA",
        "outputId": "90e18366-c7f2-457b-bc8a-09b2125c51f9"
      },
      "execution_count": null,
      "outputs": [
        {
          "output_type": "display_data",
          "data": {
            "text/plain": [
              "<Figure size 1080x720 with 6 Axes>"
            ],
            "image/png": "[encoded data removed]"
          },
          "metadata": {
            "needs_background": "light"
          }
        }
      ]
    },
    {
      "cell_type": "markdown",
      "metadata": {
        "papermill": {
          "duration": 0.015021,
          "end_time": "2020-08-25T07:15:51.215902",
          "exception": false,
          "start_time": "2020-08-25T07:15:51.200881",
          "status": "completed"
        },
        "tags": [],
        "id": "J5Xbz73DecWw"
      },
      "source": [
        "## Cleaning Data"
      ]
    },
    {
      "cell_type": "markdown",
      "metadata": {
        "papermill": {
          "duration": 0.010865,
          "end_time": "2020-08-25T07:15:51.238259",
          "exception": false,
          "start_time": "2020-08-25T07:15:51.227394",
          "status": "completed"
        },
        "tags": [],
        "id": "sUoK2aYmecWx"
      },
      "source": [
        "Let's check for NaNs in our label."
      ]
    },
    {
      "cell_type": "code",
      "execution_count": null,
      "metadata": {
        "execution": {
          "iopub.execute_input": "2020-08-25T07:15:51.299486Z",
          "iopub.status.busy": "2020-08-25T07:15:51.298634Z",
          "iopub.status.idle": "2020-08-25T07:15:51.309591Z",
          "shell.execute_reply": "2020-08-25T07:15:51.310393Z"
        },
        "papermill": {
          "duration": 0.060737,
          "end_time": "2020-08-25T07:15:51.310542",
          "exception": false,
          "start_time": "2020-08-25T07:15:51.249805",
          "status": "completed"
        },
        "tags": [],
        "id": "HPxjV8S_ecWy",
        "outputId": "0deb1462-06af-448e-8b3d-986eec1ad24f",
        "colab": {
          "base_uri": "https://localhost:8080/"
        }
      },
      "outputs": [
        {
          "output_type": "stream",
          "name": "stdout",
          "text": [
            "Number of NaNs in train set      :  565\n",
            "Number of NaNs in validation set :  78\n"
          ]
        }
      ],
      "source": [
        "print(\"Number of NaNs in train set      : \", train['IDENTITY'].isnull().sum())\n",
        "print(\"Number of NaNs in validation set : \", valid['IDENTITY'].isnull().sum())"
      ]
    },
    {
      "cell_type": "code",
      "execution_count": null,
      "metadata": {
        "execution": {
          "iopub.execute_input": "2020-08-25T07:15:51.401539Z",
          "iopub.status.busy": "2020-08-25T07:15:51.400405Z",
          "iopub.status.idle": "2020-08-25T07:15:51.578732Z",
          "shell.execute_reply": "2020-08-25T07:15:51.577989Z"
        },
        "papermill": {
          "duration": 0.256991,
          "end_time": "2020-08-25T07:15:51.578861",
          "exception": false,
          "start_time": "2020-08-25T07:15:51.321870",
          "status": "completed"
        },
        "tags": [],
        "id": "CVGZUCytecWy"
      },
      "outputs": [],
      "source": [
        "train.dropna(axis=0, inplace=True)\n",
        "valid.dropna(axis=0, inplace=True)"
      ]
    },
    {
      "cell_type": "markdown",
      "metadata": {
        "papermill": {
          "duration": 0.011528,
          "end_time": "2020-08-25T07:15:51.602988",
          "exception": false,
          "start_time": "2020-08-25T07:15:51.591460",
          "status": "completed"
        },
        "tags": [],
        "id": "p94G24w8ecWz"
      },
      "source": [
        "Also, there are some images in our data with the label 'UNREADABLE'. Lets check those images and remove them."
      ]
    },
    {
      "cell_type": "code",
      "source": [
        "unreadable = train[train['IDENTITY'] == 'UNREADABLE']\n",
        "unreadable.reset_index(inplace = True, drop=True)\n",
        "\n",
        "plt.figure(figsize=(15, 10))\n",
        "\n",
        "for i in range(6):\n",
        "    ax = plt.subplot(2, 3, i+1)\n",
        "    img_dir = '/content/dataset/train_v2/train/'+unreadable.loc[i, 'FILENAME']\n",
        "    image = cv2.imread(img_dir, cv2.IMREAD_GRAYSCALE)\n",
        "    plt.imshow(image, cmap = 'gray')\n",
        "    plt.title(unreadable.loc[i, 'IDENTITY'], fontsize=12)\n",
        "    plt.axis('off')\n",
        "\n",
        "plt.subplots_adjust(wspace=0.2, hspace=-0.8)"
      ],
      "metadata": {
        "colab": {
          "base_uri": "https://localhost:8080/",
          "height": 166
        },
        "id": "Rb5WKg1w-n6W",
        "outputId": "39558cca-df1d-4b4b-cafe-a56f98be71f4"
      },
      "execution_count": null,
      "outputs": [
        {
          "output_type": "display_data",
          "data": {
            "text/plain": [
              "<Figure size 1080x720 with 6 Axes>"
            ],
            "image/png": "[encoded data removed]"
          },
          "metadata": {
            "needs_background": "light"
          }
        }
      ]
    },
    {
      "cell_type": "code",
      "execution_count": null,
      "metadata": {
        "execution": {
          "iopub.execute_input": "2020-08-25T07:15:52.069302Z",
          "iopub.status.busy": "2020-08-25T07:15:52.067845Z",
          "iopub.status.idle": "2020-08-25T07:15:52.094581Z",
          "shell.execute_reply": "2020-08-25T07:15:52.093932Z"
        },
        "papermill": {
          "duration": 0.091411,
          "end_time": "2020-08-25T07:15:52.094695",
          "exception": false,
          "start_time": "2020-08-25T07:15:52.003284",
          "status": "completed"
        },
        "tags": [],
        "id": "I3-O0OrUecW0"
      },
      "outputs": [],
      "source": [
        "train = train[train['IDENTITY'] != 'UNREADABLE']\n",
        "valid = valid[valid['IDENTITY'] != 'UNREADABLE']"
      ]
    },
    {
      "cell_type": "markdown",
      "metadata": {
        "papermill": {
          "duration": 0.011925,
          "end_time": "2020-08-25T07:15:52.118680",
          "exception": false,
          "start_time": "2020-08-25T07:15:52.106755",
          "status": "completed"
        },
        "tags": [],
        "id": "xDEdmEXlecW0"
      },
      "source": [
        "There are some labels which are in lowercase. To maintain uniformity in the labels, I convert all the labels to uppercase."
      ]
    },
    {
      "cell_type": "code",
      "execution_count": null,
      "metadata": {
        "execution": {
          "iopub.execute_input": "2020-08-25T07:15:52.182934Z",
          "iopub.status.busy": "2020-08-25T07:15:52.181750Z",
          "iopub.status.idle": "2020-08-25T07:15:52.386733Z",
          "shell.execute_reply": "2020-08-25T07:15:52.386046Z"
        },
        "papermill": {
          "duration": 0.256398,
          "end_time": "2020-08-25T07:15:52.386857",
          "exception": false,
          "start_time": "2020-08-25T07:15:52.130459",
          "status": "completed"
        },
        "tags": [],
        "id": "WBKc38eRecW1"
      },
      "outputs": [],
      "source": [
        "train['IDENTITY'] = train['IDENTITY'].str.upper()\n",
        "valid['IDENTITY'] = valid['IDENTITY'].str.upper()"
      ]
    },
    {
      "cell_type": "markdown",
      "metadata": {
        "papermill": {
          "duration": 0.011652,
          "end_time": "2020-08-25T07:15:52.410711",
          "exception": false,
          "start_time": "2020-08-25T07:15:52.399059",
          "status": "completed"
        },
        "tags": [],
        "id": "Tw0dBXRVecW1"
      },
      "source": [
        "Reset the index and we are done with cleaning. "
      ]
    },
    {
      "cell_type": "code",
      "execution_count": null,
      "metadata": {
        "execution": {
          "iopub.execute_input": "2020-08-25T07:15:52.439267Z",
          "iopub.status.busy": "2020-08-25T07:15:52.438678Z",
          "iopub.status.idle": "2020-08-25T07:15:52.442938Z",
          "shell.execute_reply": "2020-08-25T07:15:52.442139Z"
        },
        "papermill": {
          "duration": 0.02072,
          "end_time": "2020-08-25T07:15:52.443048",
          "exception": false,
          "start_time": "2020-08-25T07:15:52.422328",
          "status": "completed"
        },
        "tags": [],
        "id": "Hb4lErPMecW1"
      },
      "outputs": [],
      "source": [
        "train.reset_index(inplace = True, drop=True) \n",
        "valid.reset_index(inplace = True, drop=True)\n"
      ]
    },
    {
      "cell_type": "markdown",
      "metadata": {
        "papermill": {
          "duration": 0.011256,
          "end_time": "2020-08-25T07:15:52.465686",
          "exception": false,
          "start_time": "2020-08-25T07:15:52.454430",
          "status": "completed"
        },
        "tags": [],
        "id": "1DsRbu4becW2"
      },
      "source": [
        "## Preprocessing and preparing the images for training"
      ]
    },
    {
      "cell_type": "markdown",
      "metadata": {
        "papermill": {
          "duration": 0.011173,
          "end_time": "2020-08-25T07:15:52.488515",
          "exception": false,
          "start_time": "2020-08-25T07:15:52.477342",
          "status": "completed"
        },
        "tags": [],
        "id": "brVAGpsOecW2"
      },
      "source": [
        "* The images are loaded as grayscale and reshaped to width 256 and height 64.  \n",
        "* The width and height are cropped if they are greater than 256 and 64 respectively. If they are smaller, then the image is padded with white pixels. Finally the image is rotated clockwise to bring the image shape to (x, y). \n",
        "* The image is then normalized to range [0, 1]"
      ]
    },
    {
      "cell_type": "code",
      "execution_count": null,
      "metadata": {
        "execution": {
          "iopub.execute_input": "2020-08-25T07:15:52.518950Z",
          "iopub.status.busy": "2020-08-25T07:15:52.518189Z",
          "iopub.status.idle": "2020-08-25T07:15:52.521593Z",
          "shell.execute_reply": "2020-08-25T07:15:52.522165Z"
        },
        "papermill": {
          "duration": 0.022356,
          "end_time": "2020-08-25T07:15:52.522315",
          "exception": false,
          "start_time": "2020-08-25T07:15:52.499959",
          "status": "completed"
        },
        "tags": [],
        "id": "8hR9gl-HecW2"
      },
      "outputs": [],
      "source": [
        "def preprocess(img):\n",
        "    (h, w) = img.shape\n",
        "    \n",
        "    final_img = np.ones([64, 256])*255 # blank white image\n",
        "    \n",
        "    # crop\n",
        "    if w > 256:\n",
        "        img = img[:, :256]\n",
        "        \n",
        "    if h > 64:\n",
        "        img = img[:64, :]\n",
        "    \n",
        "    \n",
        "    final_img[:h, :w] = img\n",
        "    return cv2.rotate(final_img, cv2.ROTATE_90_CLOCKWISE)"
      ]
    },
    {
      "cell_type": "markdown",
      "metadata": {
        "papermill": {
          "duration": 0.011474,
          "end_time": "2020-08-25T07:15:52.545585",
          "exception": false,
          "start_time": "2020-08-25T07:15:52.534111",
          "status": "completed"
        },
        "tags": [],
        "id": "gvSxL28GecW3"
      },
      "source": [
        "The model will be trained on 30000 images and validate on 3000 images"
      ]
    },
    {
      "cell_type": "code",
      "execution_count": null,
      "metadata": {
        "execution": {
          "iopub.execute_input": "2020-08-25T07:15:52.575481Z",
          "iopub.status.busy": "2020-08-25T07:15:52.573634Z",
          "iopub.status.idle": "2020-08-25T07:15:52.576454Z",
          "shell.execute_reply": "2020-08-25T07:15:52.576999Z"
        },
        "papermill": {
          "duration": 0.019472,
          "end_time": "2020-08-25T07:15:52.577135",
          "exception": false,
          "start_time": "2020-08-25T07:15:52.557663",
          "status": "completed"
        },
        "tags": [],
        "id": "ubOM8gHwecW3"
      },
      "outputs": [],
      "source": [
        "train_size = 30000\n",
        "valid_size= 3000"
      ]
    },
    {
      "cell_type": "code",
      "source": [
        "import tensorflow\n",
        "from tensorflow.keras.preprocessing.image import ImageDataGenerator\n",
        "from skimage.io import imread"
      ],
      "metadata": {
        "id": "3MiXOyBBWkNl"
      },
      "execution_count": null,
      "outputs": []
    },
    {
      "cell_type": "code",
      "source": [
        "train_x = []\n",
        "for i in range(train_size):\n",
        "    img_dir = '/content/dataset/train_v2/train/'+train.loc[i, 'FILENAME']\n",
        "\n",
        "    image = cv2.imread(img_dir, cv2.IMREAD_GRAYSCALE)\n",
        "    # image = image/255.\n",
        "    # train_x.append(image)\n",
        "   "
      ],
      "metadata": {
        "id": "vgYr0KDE1BaS"
      },
      "execution_count": null,
      "outputs": []
    },
    {
      "cell_type": "code",
      "source": [
        "valid_x = []\n",
        "\n",
        "for i in range(valid_size):\n",
        "    img_dir = '/content/dataset/validation_v2/validation'+valid.loc[i, 'FILENAME']\n",
        "    image = cv2.imread(img_dir, cv2.IMREAD_GRAYSCALE)\n",
        "   \n",
        "    valid_x.append(image)"
      ],
      "metadata": {
        "id": "CL2H2V_k5aMj"
      },
      "execution_count": null,
      "outputs": []
    },
    {
      "cell_type": "markdown",
      "metadata": {
        "papermill": {
          "duration": 0.011545,
          "end_time": "2020-08-25T07:17:12.959470",
          "exception": false,
          "start_time": "2020-08-25T07:17:12.947925",
          "status": "completed"
        },
        "tags": [],
        "id": "wc1-RzWRecW4"
      },
      "source": [
        "## Preparing the labels for CTC Loss\n",
        "\n",
        "Learn more about CTC loss and why its amazing for text recognition from [here](https://theailearner.com/2019/05/29/connectionist-temporal-classificationctc/).\n",
        "\n",
        "The labels have to be converted to numbers which represent each character in the training set. The 'alphabets' consist of A-Z and three special characters (-  '  and space). "
      ]
    },
    {
      "cell_type": "code",
      "execution_count": null,
      "metadata": {
        "execution": {
          "iopub.execute_input": "2020-08-25T07:17:12.993038Z",
          "iopub.status.busy": "2020-08-25T07:17:12.991335Z",
          "iopub.status.idle": "2020-08-25T07:17:12.993923Z",
          "shell.execute_reply": "2020-08-25T07:17:12.994407Z"
        },
        "papermill": {
          "duration": 0.023251,
          "end_time": "2020-08-25T07:17:12.994532",
          "exception": false,
          "start_time": "2020-08-25T07:17:12.971281",
          "status": "completed"
        },
        "tags": [],
        "id": "fO2XkeTpecW4"
      },
      "outputs": [],
      "source": [
        "alphabets = u\"ABCDEFGHIJKLMNOPQRSTUVWXYZ-' \"\n",
        "max_str_len = 24 # max length of input labels\n",
        "num_of_characters = len(alphabets) + 1 # +1 for ctc pseudo blank\n",
        "num_of_timestamps = 64 # max length of predicted labels\n",
        "\n",
        "\n",
        "def label_to_num(label):\n",
        "    label_num = []\n",
        "    for ch in label:\n",
        "        label_num.append(alphabets.find(ch))\n",
        "        \n",
        "    return np.array(label_num)\n",
        "\n",
        "def num_to_label(num):\n",
        "    ret = \"\"\n",
        "    for ch in num:\n",
        "        if ch == -1:  # CTC Blank\n",
        "            break\n",
        "        else:\n",
        "            ret+=alphabets[ch]\n",
        "    return ret"
      ]
    },
    {
      "cell_type": "code",
      "execution_count": null,
      "metadata": {
        "execution": {
          "iopub.execute_input": "2020-08-25T07:17:13.023091Z",
          "iopub.status.busy": "2020-08-25T07:17:13.022393Z",
          "iopub.status.idle": "2020-08-25T07:17:13.029145Z",
          "shell.execute_reply": "2020-08-25T07:17:13.028561Z"
        },
        "papermill": {
          "duration": 0.022833,
          "end_time": "2020-08-25T07:17:13.029257",
          "exception": false,
          "start_time": "2020-08-25T07:17:13.006424",
          "status": "completed"
        },
        "tags": [],
        "id": "fX3NtYbWecW5",
        "outputId": "2f8b69cc-64cf-4d63-da0d-8f5e37382c2f",
        "colab": {
          "base_uri": "https://localhost:8080/"
        }
      },
      "outputs": [
        {
          "output_type": "stream",
          "name": "stdout",
          "text": [
            "JEBASTIN \n",
            " [ 9  4  1  0 18 19  8 13]\n"
          ]
        }
      ],
      "source": [
        "name = 'JEBASTIN'\n",
        "print(name, '\\n',label_to_num(name))"
      ]
    },
    {
      "cell_type": "markdown",
      "metadata": {
        "papermill": {
          "duration": 0.01197,
          "end_time": "2020-08-25T07:17:13.053132",
          "exception": false,
          "start_time": "2020-08-25T07:17:13.041162",
          "status": "completed"
        },
        "tags": [],
        "id": "OIu9YBrqecW5"
      },
      "source": [
        "* **train_y** contains the true labels converted to numbers and padded with -1. The length of each label is equal to max_str_len. \n",
        "* **train_label_len** contains the length of each true label (without padding) \n",
        "* **train_input_len** contains the length of each predicted label. The length of all the predicted labels is constant i.e number of timestamps - 2.  \n",
        "* **train_output** is a dummy output for ctc loss. \n"
      ]
    },
    {
      "cell_type": "code",
      "execution_count": null,
      "metadata": {
        "execution": {
          "iopub.execute_input": "2020-08-25T07:17:13.087965Z",
          "iopub.status.busy": "2020-08-25T07:17:13.087072Z",
          "iopub.status.idle": "2020-08-25T07:17:14.629029Z",
          "shell.execute_reply": "2020-08-25T07:17:14.628497Z"
        },
        "papermill": {
          "duration": 1.564356,
          "end_time": "2020-08-25T07:17:14.629147",
          "exception": false,
          "start_time": "2020-08-25T07:17:13.064791",
          "status": "completed"
        },
        "tags": [],
        "id": "8r8YiRhJecW5"
      },
      "outputs": [],
      "source": [
        "train_y = np.ones([train_size, max_str_len]) * -1\n",
        "train_label_len = np.zeros([train_size, 1])\n",
        "train_input_len = np.ones([train_size, 1]) * (num_of_timestamps-2)\n",
        "train_output = np.zeros([train_size])\n",
        "\n",
        "for i in range(train_size):\n",
        "    train_label_len[i] = len(train.loc[i, 'IDENTITY'])\n",
        "    train_y[i, 0:len(train.loc[i, 'IDENTITY'])]= label_to_num(train.loc[i, 'IDENTITY'])    "
      ]
    },
    {
      "cell_type": "code",
      "execution_count": null,
      "metadata": {
        "execution": {
          "iopub.execute_input": "2020-08-25T07:17:14.661336Z",
          "iopub.status.busy": "2020-08-25T07:17:14.660503Z",
          "iopub.status.idle": "2020-08-25T07:17:14.814463Z",
          "shell.execute_reply": "2020-08-25T07:17:14.813847Z"
        },
        "papermill": {
          "duration": 0.173231,
          "end_time": "2020-08-25T07:17:14.814571",
          "exception": false,
          "start_time": "2020-08-25T07:17:14.641340",
          "status": "completed"
        },
        "tags": [],
        "id": "1K1oIo5fecW6"
      },
      "outputs": [],
      "source": [
        "valid_y = np.ones([valid_size, max_str_len]) * -1\n",
        "valid_label_len = np.zeros([valid_size, 1])\n",
        "valid_input_len = np.ones([valid_size, 1]) * (num_of_timestamps-2)\n",
        "valid_output = np.zeros([valid_size])\n",
        "\n",
        "for i in range(valid_size):\n",
        "    valid_label_len[i] = len(valid.loc[i, 'IDENTITY'])\n",
        "    valid_y[i, 0:len(valid.loc[i, 'IDENTITY'])]= label_to_num(valid.loc[i, 'IDENTITY'])    "
      ]
    },
    {
      "cell_type": "code",
      "execution_count": null,
      "metadata": {
        "execution": {
          "iopub.execute_input": "2020-08-25T07:17:14.846668Z",
          "iopub.status.busy": "2020-08-25T07:17:14.845525Z",
          "iopub.status.idle": "2020-08-25T07:17:14.851031Z",
          "shell.execute_reply": "2020-08-25T07:17:14.851525Z"
        },
        "papermill": {
          "duration": 0.024404,
          "end_time": "2020-08-25T07:17:14.851646",
          "exception": false,
          "start_time": "2020-08-25T07:17:14.827242",
          "status": "completed"
        },
        "tags": [],
        "id": "030BsDguecW6",
        "outputId": "55f16f22-b3c5-4c10-cba8-c6b9cd234e67",
        "colab": {
          "base_uri": "https://localhost:8080/"
        }
      },
      "outputs": [
        {
          "output_type": "stream",
          "name": "stdout",
          "text": [
            "True label :  NOUR \n",
            "train_y :  [13. 14. 20. 17. -1. -1. -1. -1. -1. -1. -1. -1. -1. -1. -1. -1. -1. -1.\n",
            " -1. -1. -1. -1. -1. -1.] \n",
            "train_label_len :  [4.] \n",
            "train_input_len :  [62.]\n"
          ]
        }
      ],
      "source": [
        "print('True label : ',train.loc[100, 'IDENTITY'] , '\\ntrain_y : ',train_y[100],'\\ntrain_label_len : ',train_label_len[100], \n",
        "      '\\ntrain_input_len : ', train_input_len[100])"
      ]
    },
    {
      "cell_type": "markdown",
      "metadata": {
        "papermill": {
          "duration": 0.013025,
          "end_time": "2020-08-25T07:17:14.877211",
          "exception": false,
          "start_time": "2020-08-25T07:17:14.864186",
          "status": "completed"
        },
        "tags": [],
        "id": "YMjM4LihecW6"
      },
      "source": [
        "## Building our model\n"
      ]
    },
    {
      "cell_type": "code",
      "execution_count": null,
      "metadata": {
        "execution": {
          "iopub.execute_input": "2020-08-25T07:17:14.921133Z",
          "iopub.status.busy": "2020-08-25T07:17:14.920210Z",
          "iopub.status.idle": "2020-08-25T07:17:18.971294Z",
          "shell.execute_reply": "2020-08-25T07:17:18.970170Z"
        },
        "papermill": {
          "duration": 4.081297,
          "end_time": "2020-08-25T07:17:18.971483",
          "exception": false,
          "start_time": "2020-08-25T07:17:14.890186",
          "status": "completed"
        },
        "tags": [],
        "id": "x0D3BX0becW6",
        "outputId": "dd3a75e2-04d4-46bb-f171-f9512deb26ff",
        "colab": {
          "base_uri": "https://localhost:8080/"
        }
      },
      "outputs": [
        {
          "output_type": "stream",
          "name": "stdout",
          "text": [
            "Model: \"model_3\"\n",
            "_________________________________________________________________\n",
            " Layer (type)                Output Shape              Param #   \n",
            "=================================================================\n",
            " input (InputLayer)          [(None, 256, 64, 1)]      0         \n",
            "                                                                 \n",
            " conv1 (Conv2D)              (None, 256, 64, 32)       320       \n",
            "                                                                 \n",
            " batch_normalization_6 (Batc  (None, 256, 64, 32)      128       \n",
            " hNormalization)                                                 \n",
            "                                                                 \n",
            " activation_6 (Activation)   (None, 256, 64, 32)       0         \n",
            "                                                                 \n",
            " max1 (MaxPooling2D)         (None, 128, 32, 32)       0         \n",
            "                                                                 \n",
            " conv2 (Conv2D)              (None, 128, 32, 64)       18496     \n",
            "                                                                 \n",
            " batch_normalization_7 (Batc  (None, 128, 32, 64)      256       \n",
            " hNormalization)                                                 \n",
            "                                                                 \n",
            " activation_7 (Activation)   (None, 128, 32, 64)       0         \n",
            "                                                                 \n",
            " max2 (MaxPooling2D)         (None, 64, 16, 64)        0         \n",
            "                                                                 \n",
            " dropout_4 (Dropout)         (None, 64, 16, 64)        0         \n",
            "                                                                 \n",
            " conv3 (Conv2D)              (None, 64, 16, 128)       73856     \n",
            "                                                                 \n",
            " batch_normalization_8 (Batc  (None, 64, 16, 128)      512       \n",
            " hNormalization)                                                 \n",
            "                                                                 \n",
            " activation_8 (Activation)   (None, 64, 16, 128)       0         \n",
            "                                                                 \n",
            " max3 (MaxPooling2D)         (None, 64, 8, 128)        0         \n",
            "                                                                 \n",
            " dropout_5 (Dropout)         (None, 64, 8, 128)        0         \n",
            "                                                                 \n",
            " reshape (Reshape)           (None, 64, 1024)          0         \n",
            "                                                                 \n",
            " dense1 (Dense)              (None, 64, 64)            65600     \n",
            "                                                                 \n",
            " lstm1 (Bidirectional)       (None, 64, 512)           657408    \n",
            "                                                                 \n",
            " lstm2 (Bidirectional)       (None, 64, 512)           1574912   \n",
            "                                                                 \n",
            " dense2 (Dense)              (None, 64, 30)            15390     \n",
            "                                                                 \n",
            " softmax (Activation)        (None, 64, 30)            0         \n",
            "                                                                 \n",
            "=================================================================\n",
            "Total params: 2,406,878\n",
            "Trainable params: 2,406,430\n",
            "Non-trainable params: 448\n",
            "_________________________________________________________________\n"
          ]
        }
      ],
      "source": [
        "input_data = Input(shape=(256, 64, 1), name='input')\n",
        "\n",
        "inner = Conv2D(32, (3, 3), padding='same', name='conv1', kernel_initializer='he_normal')(input_data)  \n",
        "inner = BatchNormalization()(inner)\n",
        "inner = Activation('relu')(inner)\n",
        "inner = MaxPooling2D(pool_size=(2, 2), name='max1')(inner)\n",
        "\n",
        "inner = Conv2D(64, (3, 3), padding='same', name='conv2', kernel_initializer='he_normal')(inner)\n",
        "inner = BatchNormalization()(inner)\n",
        "inner = Activation('relu')(inner)\n",
        "inner = MaxPooling2D(pool_size=(2, 2), name='max2')(inner)\n",
        "inner = Dropout(0.3)(inner)\n",
        "\n",
        "inner = Conv2D(128, (3, 3), padding='same', name='conv3', kernel_initializer='he_normal')(inner)\n",
        "inner = BatchNormalization()(inner)\n",
        "inner = Activation('relu')(inner)\n",
        "inner = MaxPooling2D(pool_size=(1, 2), name='max3')(inner)\n",
        "inner = Dropout(0.3)(inner)\n",
        "\n",
        "# CNN to RNN\n",
        "inner = Reshape(target_shape=((64, 1024)), name='reshape')(inner)\n",
        "inner = Dense(64, activation='relu', kernel_initializer='he_normal', name='dense1')(inner)\n",
        "\n",
        "## RNN\n",
        "inner = Bidirectional(LSTM(256, return_sequences=True), name = 'lstm1')(inner)\n",
        "inner = Bidirectional(LSTM(256, return_sequences=True), name = 'lstm2')(inner)\n",
        "\n",
        "## OUTPUT\n",
        "inner = Dense(num_of_characters, kernel_initializer='he_normal',name='dense2')(inner)\n",
        "y_pred = Activation('softmax', name='softmax')(inner)\n",
        "\n",
        "model = Model(inputs=input_data, outputs=y_pred)\n",
        "model.summary()"
      ]
    },
    {
      "cell_type": "markdown",
      "metadata": {
        "papermill": {
          "duration": 0.011982,
          "end_time": "2020-08-25T07:17:19.002773",
          "exception": false,
          "start_time": "2020-08-25T07:17:18.990791",
          "status": "completed"
        },
        "tags": [],
        "id": "Y05TxtqnecW7"
      },
      "source": [
        "The output shape of the predictions is (64, 30). The model predicts words of 64 characters and each character contains the probability of the 30 alphabets which we defined earlier.  "
      ]
    },
    {
      "cell_type": "code",
      "execution_count": null,
      "metadata": {
        "execution": {
          "iopub.execute_input": "2020-08-25T07:17:19.034026Z",
          "iopub.status.busy": "2020-08-25T07:17:19.033223Z",
          "iopub.status.idle": "2020-08-25T07:17:19.037237Z",
          "shell.execute_reply": "2020-08-25T07:17:19.036723Z"
        },
        "papermill": {
          "duration": 0.022103,
          "end_time": "2020-08-25T07:17:19.037355",
          "exception": false,
          "start_time": "2020-08-25T07:17:19.015252",
          "status": "completed"
        },
        "tags": [],
        "id": "75L0pcToecW7"
      },
      "outputs": [],
      "source": [
        "# the ctc loss function\n",
        "def ctc_lambda_func(args):\n",
        "    y_pred, labels, input_length, label_length = args\n",
        "    # the 2 is critical here since the first couple outputs of the RNN\n",
        "    # tend to be garbage\n",
        "    y_pred = y_pred[:, 2:, :]\n",
        "    return K.ctc_batch_cost(labels, y_pred, input_length, label_length)"
      ]
    },
    {
      "cell_type": "code",
      "execution_count": null,
      "metadata": {
        "execution": {
          "iopub.execute_input": "2020-08-25T07:17:19.074997Z",
          "iopub.status.busy": "2020-08-25T07:17:19.074118Z",
          "iopub.status.idle": "2020-08-25T07:17:19.189173Z",
          "shell.execute_reply": "2020-08-25T07:17:19.188355Z"
        },
        "papermill": {
          "duration": 0.139532,
          "end_time": "2020-08-25T07:17:19.189290",
          "exception": false,
          "start_time": "2020-08-25T07:17:19.049758",
          "status": "completed"
        },
        "tags": [],
        "id": "43HyYU_yecW7"
      },
      "outputs": [],
      "source": [
        "labels = Input(name='gtruth_labels', shape=[max_str_len], dtype='float32')\n",
        "input_length = Input(name='input_length', shape=[1], dtype='int64')\n",
        "label_length = Input(name='label_length', shape=[1], dtype='int64')\n",
        "\n",
        "ctc_loss = Lambda(ctc_lambda_func, output_shape=(1,), name='ctc')([y_pred, labels, input_length, label_length])\n",
        "model_final = Model(inputs=[input_data, labels, input_length, label_length], outputs=ctc_loss)"
      ]
    },
    {
      "cell_type": "markdown",
      "metadata": {
        "papermill": {
          "duration": 0.012508,
          "end_time": "2020-08-25T07:17:19.214502",
          "exception": false,
          "start_time": "2020-08-25T07:17:19.201994",
          "status": "completed"
        },
        "tags": [],
        "id": "uX-ZWvXKecW8"
      },
      "source": [
        "## Train our model"
      ]
    },
    {
      "cell_type": "code",
      "source": [
        "# the loss calculation occurs elsewhere, so we use a dummy lambda function for the loss\n",
        "model_final.compile(loss={'ctc': lambda y_true, y_pred: y_pred}, optimizer=Adam(learning_rate = 0.0001))"
      ],
      "metadata": {
        "id": "TgJeYicy84PP"
      },
      "execution_count": null,
      "outputs": []
    },
    {
      "cell_type": "code",
      "execution_count": null,
      "metadata": {
        "execution": {
          "iopub.execute_input": "2020-08-25T07:17:19.253655Z",
          "iopub.status.busy": "2020-08-25T07:17:19.252750Z",
          "iopub.status.idle": "2020-08-25T07:54:58.831163Z",
          "shell.execute_reply": "2020-08-25T07:54:58.831699Z"
        },
        "papermill": {
          "duration": 2259.604823,
          "end_time": "2020-08-25T07:54:58.831862",
          "exception": false,
          "start_time": "2020-08-25T07:17:19.227039",
          "status": "completed"
        },
        "tags": [],
        "id": "vYL-YuXKecW8",
        "outputId": "9ed4f2e6-a6c1-43f2-8648-ff71ccb273ec"
      },
      "outputs": [
        {
          "name": "stdout",
          "output_type": "stream",
          "text": [
            "Epoch 1/60\n",
            "235/235 [==============================] - 40s 169ms/step - loss: 27.0491 - val_loss: 20.7495\n",
            "Epoch 2/60\n",
            "235/235 [==============================] - 37s 159ms/step - loss: 20.2452 - val_loss: 20.1253\n",
            "Epoch 3/60\n",
            "235/235 [==============================] - 37s 155ms/step - loss: 19.9014 - val_loss: 19.7929\n",
            "Epoch 4/60\n",
            "235/235 [==============================] - 38s 160ms/step - loss: 19.5134 - val_loss: 19.2987\n",
            "Epoch 5/60\n",
            "235/235 [==============================] - 37s 158ms/step - loss: 18.9039 - val_loss: 18.4271\n",
            "Epoch 6/60\n",
            "235/235 [==============================] - 37s 156ms/step - loss: 17.9404 - val_loss: 17.2631\n",
            "Epoch 7/60\n",
            "235/235 [==============================] - 38s 160ms/step - loss: 16.7457 - val_loss: 16.3461\n",
            "Epoch 8/60\n",
            "235/235 [==============================] - 37s 156ms/step - loss: 15.1787 - val_loss: 15.2342\n",
            "Epoch 9/60\n",
            "235/235 [==============================] - 38s 161ms/step - loss: 13.3024 - val_loss: 13.7681\n",
            "Epoch 10/60\n",
            "235/235 [==============================] - 37s 159ms/step - loss: 11.4567 - val_loss: 12.1672\n",
            "Epoch 11/60\n",
            "235/235 [==============================] - 37s 156ms/step - loss: 9.4066 - val_loss: 9.7939\n",
            "Epoch 12/60\n",
            "235/235 [==============================] - 37s 159ms/step - loss: 7.5912 - val_loss: 9.5680\n",
            "Epoch 13/60\n",
            "235/235 [==============================] - 37s 158ms/step - loss: 6.4270 - val_loss: 6.7570\n",
            "Epoch 14/60\n",
            "235/235 [==============================] - 37s 159ms/step - loss: 5.6524 - val_loss: 5.2620\n",
            "Epoch 15/60\n",
            "235/235 [==============================] - 37s 159ms/step - loss: 5.0906 - val_loss: 4.6371\n",
            "Epoch 16/60\n",
            "235/235 [==============================] - 37s 157ms/step - loss: 4.6338 - val_loss: 4.2196\n",
            "Epoch 17/60\n",
            "235/235 [==============================] - 38s 160ms/step - loss: 4.2915 - val_loss: 3.8284\n",
            "Epoch 18/60\n",
            "235/235 [==============================] - 37s 159ms/step - loss: 4.0128 - val_loss: 3.6318\n",
            "Epoch 19/60\n",
            "235/235 [==============================] - 37s 157ms/step - loss: 3.7452 - val_loss: 3.3960\n",
            "Epoch 20/60\n",
            "235/235 [==============================] - 37s 159ms/step - loss: 3.5515 - val_loss: 3.2206\n",
            "Epoch 21/60\n",
            "235/235 [==============================] - 37s 156ms/step - loss: 3.3524 - val_loss: 3.1248\n",
            "Epoch 22/60\n",
            "235/235 [==============================] - 38s 160ms/step - loss: 3.1947 - val_loss: 2.9718\n",
            "Epoch 23/60\n",
            "235/235 [==============================] - 37s 159ms/step - loss: 3.0675 - val_loss: 2.9184\n",
            "Epoch 24/60\n",
            "235/235 [==============================] - 37s 156ms/step - loss: 2.9435 - val_loss: 2.8342\n",
            "Epoch 25/60\n",
            "235/235 [==============================] - 38s 161ms/step - loss: 2.8147 - val_loss: 2.7256\n",
            "Epoch 26/60\n",
            "235/235 [==============================] - 38s 161ms/step - loss: 2.7127 - val_loss: 2.6831\n",
            "Epoch 27/60\n",
            "235/235 [==============================] - 37s 158ms/step - loss: 2.6164 - val_loss: 2.6389\n",
            "Epoch 28/60\n",
            "235/235 [==============================] - 38s 160ms/step - loss: 2.5493 - val_loss: 2.5164\n",
            "Epoch 29/60\n",
            "235/235 [==============================] - 37s 159ms/step - loss: 2.4576 - val_loss: 2.5339\n",
            "Epoch 30/60\n",
            "235/235 [==============================] - 38s 160ms/step - loss: 2.3807 - val_loss: 2.4490\n",
            "Epoch 31/60\n",
            "235/235 [==============================] - 37s 159ms/step - loss: 2.3245 - val_loss: 2.4193\n",
            "Epoch 32/60\n",
            "235/235 [==============================] - 37s 157ms/step - loss: 2.2615 - val_loss: 2.3888\n",
            "Epoch 33/60\n",
            "235/235 [==============================] - 37s 159ms/step - loss: 2.2019 - val_loss: 2.3286\n",
            "Epoch 34/60\n",
            "235/235 [==============================] - 38s 161ms/step - loss: 2.1445 - val_loss: 2.3121\n",
            "Epoch 35/60\n",
            "235/235 [==============================] - 37s 158ms/step - loss: 2.0902 - val_loss: 2.2863\n",
            "Epoch 36/60\n",
            "235/235 [==============================] - 37s 159ms/step - loss: 2.0411 - val_loss: 2.2639\n",
            "Epoch 37/60\n",
            "235/235 [==============================] - 37s 159ms/step - loss: 1.9942 - val_loss: 2.2626\n",
            "Epoch 38/60\n",
            "235/235 [==============================] - 37s 158ms/step - loss: 1.9469 - val_loss: 2.2239\n",
            "Epoch 39/60\n",
            "235/235 [==============================] - 37s 159ms/step - loss: 1.9047 - val_loss: 2.1610\n",
            "Epoch 40/60\n",
            "235/235 [==============================] - 37s 157ms/step - loss: 1.8695 - val_loss: 2.1846\n",
            "Epoch 41/60\n",
            "235/235 [==============================] - 37s 159ms/step - loss: 1.8186 - val_loss: 2.1597\n",
            "Epoch 42/60\n",
            "235/235 [==============================] - 38s 160ms/step - loss: 1.7853 - val_loss: 2.1889\n",
            "Epoch 43/60\n",
            "235/235 [==============================] - 37s 158ms/step - loss: 1.7493 - val_loss: 2.1000\n",
            "Epoch 44/60\n",
            "235/235 [==============================] - 38s 160ms/step - loss: 1.7191 - val_loss: 2.1428\n",
            "Epoch 45/60\n",
            "235/235 [==============================] - 37s 158ms/step - loss: 1.6942 - val_loss: 2.1054\n",
            "Epoch 46/60\n",
            "235/235 [==============================] - 37s 159ms/step - loss: 1.6493 - val_loss: 2.0827\n",
            "Epoch 47/60\n",
            "235/235 [==============================] - 38s 160ms/step - loss: 1.6152 - val_loss: 2.1070\n",
            "Epoch 48/60\n",
            "235/235 [==============================] - 37s 157ms/step - loss: 1.5802 - val_loss: 2.0616\n",
            "Epoch 49/60\n",
            "235/235 [==============================] - 37s 159ms/step - loss: 1.5608 - val_loss: 2.0923\n",
            "Epoch 50/60\n",
            "235/235 [==============================] - 37s 159ms/step - loss: 1.5198 - val_loss: 2.0441\n",
            "Epoch 51/60\n",
            "235/235 [==============================] - 37s 157ms/step - loss: 1.4888 - val_loss: 2.0914\n",
            "Epoch 52/60\n",
            "235/235 [==============================] - 38s 160ms/step - loss: 1.4651 - val_loss: 2.0472\n",
            "Epoch 53/60\n",
            "235/235 [==============================] - 37s 158ms/step - loss: 1.4306 - val_loss: 2.0368\n",
            "Epoch 54/60\n",
            "235/235 [==============================] - 38s 160ms/step - loss: 1.4149 - val_loss: 2.0536\n",
            "Epoch 55/60\n",
            "235/235 [==============================] - 38s 162ms/step - loss: 1.3829 - val_loss: 2.0781\n",
            "Epoch 56/60\n",
            "235/235 [==============================] - 37s 158ms/step - loss: 1.3557 - val_loss: 2.0083\n",
            "Epoch 57/60\n",
            "235/235 [==============================] - 37s 159ms/step - loss: 1.3380 - val_loss: 2.0598\n",
            "Epoch 58/60\n",
            "235/235 [==============================] - 37s 158ms/step - loss: 1.3100 - val_loss: 2.0642\n",
            "Epoch 59/60\n",
            "235/235 [==============================] - 37s 159ms/step - loss: 1.2804 - val_loss: 2.0796\n",
            "Epoch 60/60\n",
            "235/235 [==============================] - 38s 161ms/step - loss: 1.2584 - val_loss: 2.0456\n"
          ]
        },
        {
          "data": {
            "text/plain": [
              "<tensorflow.python.keras.callbacks.History at 0x7f9fe010a210>"
            ]
          },
          "execution_count": 23,
          "metadata": {},
          "output_type": "execute_result"
        }
      ],
      "source": [
        "model_final.fit(x=[train_x, train_y, train_input_len, train_label_len], y=train_output, \n",
        "                validation_data=([valid_x, valid_y, valid_input_len, valid_label_len], valid_output),\n",
        "                epochs=60, batch_size=128)"
      ]
    },
    {
      "cell_type": "markdown",
      "metadata": {
        "papermill": {
          "duration": 0.797524,
          "end_time": "2020-08-25T07:55:00.485505",
          "exception": false,
          "start_time": "2020-08-25T07:54:59.687981",
          "status": "completed"
        },
        "tags": [],
        "id": "50gj-b8XecW8"
      },
      "source": [
        "## Check model performance on validation set"
      ]
    },
    {
      "cell_type": "code",
      "execution_count": null,
      "metadata": {
        "execution": {
          "iopub.execute_input": "2020-08-25T07:55:02.182749Z",
          "iopub.status.busy": "2020-08-25T07:55:02.181740Z",
          "iopub.status.idle": "2020-08-25T07:55:05.506354Z",
          "shell.execute_reply": "2020-08-25T07:55:05.505842Z"
        },
        "papermill": {
          "duration": 4.175429,
          "end_time": "2020-08-25T07:55:05.506511",
          "exception": false,
          "start_time": "2020-08-25T07:55:01.331082",
          "status": "completed"
        },
        "tags": [],
        "id": "AOTmMC3DecW9"
      },
      "outputs": [],
      "source": [
        "preds = model.predict(valid_x)\n",
        "decoded = K.get_value(K.ctc_decode(preds, input_length=np.ones(preds.shape[0])*preds.shape[1], \n",
        "                                   greedy=True)[0][0])\n",
        "\n",
        "prediction = []\n",
        "for i in range(valid_size):\n",
        "    prediction.append(num_to_label(decoded[i]))"
      ]
    },
    {
      "cell_type": "code",
      "execution_count": null,
      "metadata": {
        "execution": {
          "iopub.execute_input": "2020-08-25T07:55:07.219567Z",
          "iopub.status.busy": "2020-08-25T07:55:07.209282Z",
          "iopub.status.idle": "2020-08-25T07:55:07.228772Z",
          "shell.execute_reply": "2020-08-25T07:55:07.228218Z"
        },
        "papermill": {
          "duration": 0.888315,
          "end_time": "2020-08-25T07:55:07.228876",
          "exception": false,
          "start_time": "2020-08-25T07:55:06.340561",
          "status": "completed"
        },
        "tags": [],
        "id": "GKaE4Z8EecW9",
        "outputId": "a7e54c6f-a6eb-4d54-ff4d-7f4a7c947083"
      },
      "outputs": [
        {
          "name": "stdout",
          "output_type": "stream",
          "text": [
            "Correct characters predicted : 82.16%\n",
            "Correct words predicted      : 69.10%\n"
          ]
        }
      ],
      "source": [
        "y_true = valid.loc[0:valid_size, 'IDENTITY']\n",
        "correct_char = 0\n",
        "total_char = 0\n",
        "correct = 0\n",
        "\n",
        "for i in range(valid_size):\n",
        "    pr = prediction[i]\n",
        "    tr = y_true[i]\n",
        "    total_char += len(tr)\n",
        "    \n",
        "    for j in range(min(len(tr), len(pr))):\n",
        "        if tr[j] == pr[j]:\n",
        "            correct_char += 1\n",
        "            \n",
        "    if pr == tr :\n",
        "        correct += 1 \n",
        "    \n",
        "print('Correct characters predicted : %.2f%%' %(correct_char*100/total_char))\n",
        "print('Correct words predicted      : %.2f%%' %(correct*100/valid_size))"
      ]
    },
    {
      "cell_type": "markdown",
      "metadata": {
        "papermill": {
          "duration": 0.801735,
          "end_time": "2020-08-25T07:55:08.873408",
          "exception": false,
          "start_time": "2020-08-25T07:55:08.071673",
          "status": "completed"
        },
        "tags": [],
        "id": "S8gi8LRNecW9"
      },
      "source": [
        "## Some predictions on test set"
      ]
    },
    {
      "cell_type": "code",
      "execution_count": null,
      "metadata": {
        "execution": {
          "iopub.execute_input": "2020-08-25T07:55:10.532830Z",
          "iopub.status.busy": "2020-08-25T07:55:10.532112Z",
          "iopub.status.idle": "2020-08-25T07:55:11.236492Z",
          "shell.execute_reply": "2020-08-25T07:55:11.237311Z"
        },
        "papermill": {
          "duration": 1.519129,
          "end_time": "2020-08-25T07:55:11.237510",
          "exception": false,
          "start_time": "2020-08-25T07:55:09.718381",
          "status": "completed"
        },
        "tags": [],
        "id": "L3OrqkM9ecW-",
        "outputId": "6150fb6f-d2e8-4bdf-f544-28b44e1402fc"
      },
      "outputs": [
        {
          "data": {
            "image/png": "[encoded data removed]",
            "text/plain": [
              "<Figure size 1080x720 with 6 Axes>"
            ]
          },
          "metadata": {
            "needs_background": "light"
          },
          "output_type": "display_data"
        }
      ],
      "source": [
        "test = pd.read_csv('/kaggle/input/handwriting-recognition/written_name_test_v2.csv')\n",
        "\n",
        "plt.figure(figsize=(15, 10))\n",
        "for i in range(6):\n",
        "    ax = plt.subplot(2, 3, i+1)\n",
        "    img_dir = '/kaggle/input/handwriting-recognition/test_v2/test/'+test.loc[i, 'FILENAME']\n",
        "    image = cv2.imread(img_dir, cv2.IMREAD_GRAYSCALE)\n",
        "    plt.imshow(image, cmap='gray')\n",
        "    \n",
        "    image = preprocess(image)\n",
        "    image = image/255.\n",
        "    pred = model.predict(image.reshape(1, 256, 64, 1))\n",
        "    decoded = K.get_value(K.ctc_decode(pred, input_length=np.ones(pred.shape[0])*pred.shape[1], \n",
        "                                       greedy=True)[0][0])\n",
        "    plt.title(num_to_label(decoded[0]), fontsize=12)\n",
        "    plt.axis('off')\n",
        "    \n",
        "plt.subplots_adjust(wspace=0.2, hspace=-0.8)"
      ]
    }
  ],
  "metadata": {
    "kernelspec": {
      "display_name": "Python 3",
      "language": "python",
      "name": "python3"
    },
    "language_info": {
      "codemirror_mode": {
        "name": "ipython",
        "version": 3
      },
      "file_extension": ".py",
      "mimetype": "text/x-python",
      "name": "python",
      "nbconvert_exporter": "python",
      "pygments_lexer": "ipython3",
      "version": "3.7.6"
    },
    "papermill": {
      "duration": 2377.439364,
      "end_time": "2020-08-25T07:55:16.844057",
      "environment_variables": {},
      "exception": null,
      "input_path": "__notebook__.ipynb",
      "output_path": "__notebook__.ipynb",
      "parameters": {},
      "start_time": "2020-08-25T07:15:39.404693",
      "version": "2.1.0"
    },
    "colab": {
      "provenance": []
    },
    "accelerator": "GPU",
    "gpuClass": "standard"
  },
  "nbformat": 4,
  "nbformat_minor": 0
}